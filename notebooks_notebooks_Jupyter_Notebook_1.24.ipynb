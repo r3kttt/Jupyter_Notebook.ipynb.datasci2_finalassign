{
  "metadata": {
    "kernelspec": {
      "name": "python",
      "display_name": "Python (Pyodide)",
      "language": "python"
    },
    "language_info": {
      "codemirror_mode": {
        "name": "python",
        "version": 3
      },
      "file_extension": ".py",
      "mimetype": "text/x-python",
      "name": "python",
      "nbconvert_exporter": "python",
      "pygments_lexer": "ipython3",
      "version": "3.8"
    }
  },
  "nbformat_minor": 4,
  "nbformat": 4,
  "cells": [
    {
      "cell_type": "markdown",
      "source": "<center>\n    <img src=\"https://cf-courses-data.s3.us.cloud-object-storage.appdomain.cloud/IBMDeveloperSkillsNetwork-DS0105EN-SkillsNetwork/labs/Module2/images/SN_web_lightmode.png\" width=\"300\" alt=\"cognitiveclass.ai logo\"  />\n</center>\n",
      "metadata": {}
    },
    {
      "cell_type": "markdown",
      "source": "#### Add your code below following the instructions given in the course\n",
      "metadata": {}
    },
    {
      "cell_type": "markdown",
      "source": "# \"My Jupyter Notebook on IBM Watson Studio\"",
      "metadata": {}
    },
    {
      "cell_type": "markdown",
      "source": "**Jay Kaye**\n\nData Scientist Hopeful",
      "metadata": {}
    },
    {
      "cell_type": "markdown",
      "source": "*I am interested in data science because I love how data scientists take complex and dynamic data and process it to easy to understand information. It always gives me new insight and deeper knowledge around a subject I am learning.*",
      "metadata": {}
    },
    {
      "cell_type": "markdown",
      "source": "### The code below will print, \"Hello World!\"",
      "metadata": {}
    },
    {
      "cell_type": "code",
      "source": "x = \"Hello World!\"\nprint(x)",
      "metadata": {
        "tags": [],
        "trusted": true
      },
      "execution_count": 1,
      "outputs": [
        {
          "name": "stdout",
          "text": "Hello World!\n",
          "output_type": "stream"
        }
      ]
    },
    {
      "cell_type": "markdown",
      "source": "# <center>Cool Links</center>\n___\n### <center>*Even though no one asked*</center>\n---\n\n\n| Subject | Link | Rating |\n| :---: | :---: | :---:|\n**Dogs** | [🦴🐶🦴](https://random.dog/) | 12/10\n**Cats** | [🧶😼🧶](https://genrandom.com/cats/) | 9/10\n\n###### <center> As rated by a non-doggo neutral party </center>",
      "metadata": {
        "tags": []
      }
    }
  ]
}